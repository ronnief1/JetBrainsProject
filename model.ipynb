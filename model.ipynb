{
 "cells": [
  {
   "cell_type": "code",
   "execution_count": 41,
   "metadata": {},
   "outputs": [
    {
     "name": "stderr",
     "output_type": "stream",
     "text": [
      "c:\\users\\ronnie\\appdata\\local\\programs\\python\\python39\\lib\\site-packages\\setuptools\\distutils_patch.py:25: UserWarning: Distutils was imported before Setuptools. This usage is discouraged and may exhibit undesirable behaviors or errors. Please use Setuptools' objects directly or at least import Setuptools first.\n",
      "  warnings.warn(\n"
     ]
    }
   ],
   "source": [
    "import numpy as np\n",
    "import pandas as pd\n",
    "import t5\n",
    "import tensorflow as tf\n",
    "import tensorflow_datasets as tfds\n",
    "import sparknlp\n",
    "from sparknlp.base import *\n",
    "from simpletransformers.t5 import T5Model"
   ]
  },
  {
   "cell_type": "code",
   "execution_count": 178,
   "metadata": {},
   "outputs": [
    {
     "name": "stderr",
     "output_type": "stream",
     "text": [
      "INFO:absl:Load dataset info from C:\\Users\\Ronnie\\tensorflow_datasets\\xnli\\1.1.0\n",
      "INFO:absl:Reusing dataset xnli (C:\\Users\\Ronnie\\tensorflow_datasets\\xnli\\1.1.0)\n",
      "INFO:absl:Constructing tf.data.Dataset xnli for split None, from C:\\Users\\Ronnie\\tensorflow_datasets\\xnli\\1.1.0\n"
     ]
    }
   ],
   "source": [
    "ds, ds_info = tfds.load('xnli', shuffle_files=True)"
   ]
  },
  {
   "cell_type": "code",
   "execution_count": null,
   "metadata": {},
   "outputs": [],
   "source": []
  },
  {
   "cell_type": "code",
   "execution_count": 43,
   "metadata": {},
   "outputs": [
    {
     "name": "stderr",
     "output_type": "stream",
     "text": [
      "DEBUG:filelock:Attempting to acquire lock 1769829437200 on C:\\Users\\Ronnie/.cache\\huggingface\\transformers\\fe501e8fd6425b8ec93df37767fcce78ce626e34cc5edc859c662350cf712e41.406701565c0afd9899544c1cb8b93185a76f00b31e5ce7f6e18bbaef02241985.lock\n",
      "DEBUG:filelock:Lock 1769829437200 acquired on C:\\Users\\Ronnie/.cache\\huggingface\\transformers\\fe501e8fd6425b8ec93df37767fcce78ce626e34cc5edc859c662350cf712e41.406701565c0afd9899544c1cb8b93185a76f00b31e5ce7f6e18bbaef02241985.lock\n"
     ]
    },
    {
     "data": {
      "application/vnd.jupyter.widget-view+json": {
       "model_id": "fca1b0a069194251b17cdfd690ffcaa1",
       "version_major": 2,
       "version_minor": 0
      },
      "text/plain": [
       "Downloading:   0%|          | 0.00/1.17k [00:00<?, ?B/s]"
      ]
     },
     "metadata": {},
     "output_type": "display_data"
    },
    {
     "name": "stderr",
     "output_type": "stream",
     "text": [
      "DEBUG:filelock:Attempting to release lock 1769829437200 on C:\\Users\\Ronnie/.cache\\huggingface\\transformers\\fe501e8fd6425b8ec93df37767fcce78ce626e34cc5edc859c662350cf712e41.406701565c0afd9899544c1cb8b93185a76f00b31e5ce7f6e18bbaef02241985.lock\n",
      "DEBUG:filelock:Lock 1769829437200 released on C:\\Users\\Ronnie/.cache\\huggingface\\transformers\\fe501e8fd6425b8ec93df37767fcce78ce626e34cc5edc859c662350cf712e41.406701565c0afd9899544c1cb8b93185a76f00b31e5ce7f6e18bbaef02241985.lock\n",
      "DEBUG:filelock:Attempting to acquire lock 1769830941072 on C:\\Users\\Ronnie/.cache\\huggingface\\transformers\\fee5a3a0ae379232608b6eed45d2d7a0d2966b9683728838412caccc41b4b0ed.ddacdc89ec88482db20c676f0861a336f3d0409f94748c209847b49529d73885.lock\n",
      "DEBUG:filelock:Lock 1769830941072 acquired on C:\\Users\\Ronnie/.cache\\huggingface\\transformers\\fee5a3a0ae379232608b6eed45d2d7a0d2966b9683728838412caccc41b4b0ed.ddacdc89ec88482db20c676f0861a336f3d0409f94748c209847b49529d73885.lock\n"
     ]
    },
    {
     "data": {
      "application/vnd.jupyter.widget-view+json": {
       "model_id": "57bc94abb9c24c92abdb455bc9f72fe9",
       "version_major": 2,
       "version_minor": 0
      },
      "text/plain": [
       "Downloading:   0%|          | 0.00/231M [00:00<?, ?B/s]"
      ]
     },
     "metadata": {},
     "output_type": "display_data"
    },
    {
     "name": "stderr",
     "output_type": "stream",
     "text": [
      "DEBUG:filelock:Attempting to release lock 1769830941072 on C:\\Users\\Ronnie/.cache\\huggingface\\transformers\\fee5a3a0ae379232608b6eed45d2d7a0d2966b9683728838412caccc41b4b0ed.ddacdc89ec88482db20c676f0861a336f3d0409f94748c209847b49529d73885.lock\n",
      "DEBUG:filelock:Lock 1769830941072 released on C:\\Users\\Ronnie/.cache\\huggingface\\transformers\\fee5a3a0ae379232608b6eed45d2d7a0d2966b9683728838412caccc41b4b0ed.ddacdc89ec88482db20c676f0861a336f3d0409f94748c209847b49529d73885.lock\n",
      "DEBUG:filelock:Attempting to acquire lock 1769923885664 on C:\\Users\\Ronnie/.cache\\huggingface\\transformers\\65fc04e21f45f61430aea0c4fedffac16a4d20d78b8e6601d8d996ebefefecd2.3b69006860e7b5d0a63ffdddc01ddcd6b7c318a6f4fd793596552c741734c62d.lock\n",
      "DEBUG:filelock:Lock 1769923885664 acquired on C:\\Users\\Ronnie/.cache\\huggingface\\transformers\\65fc04e21f45f61430aea0c4fedffac16a4d20d78b8e6601d8d996ebefefecd2.3b69006860e7b5d0a63ffdddc01ddcd6b7c318a6f4fd793596552c741734c62d.lock\n"
     ]
    },
    {
     "data": {
      "application/vnd.jupyter.widget-view+json": {
       "model_id": "a23665423cdb434eb4d003dcc98c344a",
       "version_major": 2,
       "version_minor": 0
      },
      "text/plain": [
       "Downloading:   0%|          | 0.00/773k [00:00<?, ?B/s]"
      ]
     },
     "metadata": {},
     "output_type": "display_data"
    },
    {
     "name": "stderr",
     "output_type": "stream",
     "text": [
      "DEBUG:filelock:Attempting to release lock 1769923885664 on C:\\Users\\Ronnie/.cache\\huggingface\\transformers\\65fc04e21f45f61430aea0c4fedffac16a4d20d78b8e6601d8d996ebefefecd2.3b69006860e7b5d0a63ffdddc01ddcd6b7c318a6f4fd793596552c741734c62d.lock\n",
      "DEBUG:filelock:Lock 1769923885664 released on C:\\Users\\Ronnie/.cache\\huggingface\\transformers\\65fc04e21f45f61430aea0c4fedffac16a4d20d78b8e6601d8d996ebefefecd2.3b69006860e7b5d0a63ffdddc01ddcd6b7c318a6f4fd793596552c741734c62d.lock\n",
      "DEBUG:filelock:Attempting to acquire lock 1769923885760 on C:\\Users\\Ronnie/.cache\\huggingface\\transformers\\06779097c78e12f47ef67ecb728810c2ae757ee0a9efe9390c6419783d99382d.8627f1bd5d270a9fd2e5a51c8bec3223896587cc3cfe13edeabb0992ab43c529.lock\n",
      "DEBUG:filelock:Lock 1769923885760 acquired on C:\\Users\\Ronnie/.cache\\huggingface\\transformers\\06779097c78e12f47ef67ecb728810c2ae757ee0a9efe9390c6419783d99382d.8627f1bd5d270a9fd2e5a51c8bec3223896587cc3cfe13edeabb0992ab43c529.lock\n"
     ]
    },
    {
     "data": {
      "application/vnd.jupyter.widget-view+json": {
       "model_id": "88ea8c64304a4ee084d7450b4ee7c5a5",
       "version_major": 2,
       "version_minor": 0
      },
      "text/plain": [
       "Downloading:   0%|          | 0.00/1.32M [00:00<?, ?B/s]"
      ]
     },
     "metadata": {},
     "output_type": "display_data"
    },
    {
     "name": "stderr",
     "output_type": "stream",
     "text": [
      "DEBUG:filelock:Attempting to release lock 1769923885760 on C:\\Users\\Ronnie/.cache\\huggingface\\transformers\\06779097c78e12f47ef67ecb728810c2ae757ee0a9efe9390c6419783d99382d.8627f1bd5d270a9fd2e5a51c8bec3223896587cc3cfe13edeabb0992ab43c529.lock\n",
      "DEBUG:filelock:Lock 1769923885760 released on C:\\Users\\Ronnie/.cache\\huggingface\\transformers\\06779097c78e12f47ef67ecb728810c2ae757ee0a9efe9390c6419783d99382d.8627f1bd5d270a9fd2e5a51c8bec3223896587cc3cfe13edeabb0992ab43c529.lock\n"
     ]
    }
   ],
   "source": [
    "model = T5Model(\n",
    "    \"t5\",\n",
    "    \"t5-small\",\n",
    "    use_cuda=False\n",
    ")"
   ]
  },
  {
   "cell_type": "code",
   "execution_count": 176,
   "metadata": {},
   "outputs": [
    {
     "name": "stdout",
     "output_type": "stream",
     "text": [
      "[b'\\xd9\\x82\\xd8\\xaf\\xd9\\x85 \\xd8\\xa7\\xd9\\x84\\xd9\\x84\\xd9\\x88\\xd8\\xb1\\xd8\\xaf \\xd8\\xac\\xd9\\x88\\xd9\\x84\\xd9\\x8a\\xd8\\xa7\\xd9\\x86 \\xd9\\x88\\xd8\\xa7\\xd8\\xaf \\xd8\\xaa\\xd8\\xad\\xd9\\x8a\\xd8\\xa9 \\xd8\\xaf\\xd8\\xa7\\xd9\\x81\\xd8\\xa6\\xd8\\xa9 \\xd9\\x88\\xd9\\x85\\xd8\\xb1\\xd8\\xad\\xd8\\xa8\\xd8\\xa9.'\n",
      " b'\\xd0\\x9b\\xd0\\xbe\\xd1\\x80\\xd0\\xb4 \\xd0\\x94\\xd0\\xb6\\xd1\\x83\\xd0\\xbb\\xd0\\xb8\\xd1\\x8a\\xd0\\xbd \\xd0\\xa3\\xd0\\xb5\\xd0\\xb9\\xd0\\xb4 \\xd0\\xbf\\xd0\\xbe\\xd0\\xb7\\xd0\\xb4\\xd1\\x80\\xd0\\xb0\\xd0\\xb2\\xd0\\xb8 \\xd1\\x82\\xd0\\xbe\\xd0\\xbf\\xd0\\xbb\\xd0\\xbe \\xd0\\xb8 \\xd0\\xbf\\xd1\\x80\\xd0\\xb8\\xd0\\xb2\\xd0\\xb5\\xd1\\x82\\xd0\\xbb\\xd0\\xb8\\xd0\\xb2\\xd0\\xbe.'\n",
      " b'Lord Julians Begr\\xc3\\xbc\\xc3\\x9fung war warm und einladend.'\n",
      " b'\\xce\\x9f \\xce\\x9b\\xcf\\x8c\\xcf\\x81\\xce\\xb4\\xce\\xbf\\xcf\\x82 Julian Wade \\xce\\xad\\xce\\xb4\\xcf\\x89\\xcf\\x83\\xce\\xb5 \\xce\\xad\\xce\\xbd\\xce\\xb1 \\xce\\xb6\\xce\\xb5\\xcf\\x83\\xcf\\x84\\xcf\\x8c \\xce\\xba\\xce\\xb1\\xce\\xb9 \\xcf\\x86\\xce\\xb9\\xce\\xbb\\xcf\\x8c\\xce\\xbe\\xce\\xb5\\xce\\xbd\\xce\\xbf \\xcf\\x87\\xce\\xb1\\xce\\xb9\\xcf\\x81\\xce\\xb5\\xcf\\x84\\xce\\xb9\\xcf\\x83\\xce\\xbc\\xcf\\x8c.'\n",
      " b'Lord Julian Wade provided a warm and welcoming greeting.'\n",
      " b'Lord Julian Wade brind\\xc3\\xb3 un c\\xc3\\xa1lido y acogedor recibimiento.'\n",
      " b'Lord Julian Wade a offert un accueil chaleureux et convivial.'\n",
      " b'\\xe0\\xa4\\xb2\\xe0\\xa5\\x89\\xe0\\xa4\\xb0\\xe0\\xa5\\x8d\\xe0\\xa4\\xa1 \\xe0\\xa4\\x9c\\xe0\\xa5\\x82\\xe0\\xa4\\xb2\\xe0\\xa4\\xbf\\xe0\\xa4\\xaf\\xe0\\xa4\\xa8 \\xe0\\xa4\\xb5\\xe0\\xa5\\x87\\xe0\\xa4\\xa1 \\xe0\\xa4\\xa8\\xe0\\xa5\\x87 \\xe0\\xa4\\x8f\\xe0\\xa4\\x95 \\xe0\\xa4\\x97\\xe0\\xa4\\xb0\\xe0\\xa5\\x8d\\xe0\\xa4\\xae \\xe0\\xa4\\x94\\xe0\\xa4\\xb0 \\xe0\\xa4\\xb8\\xe0\\xa5\\x8d\\xe0\\xa4\\xb5\\xe0\\xa4\\xbe\\xe0\\xa4\\x97\\xe0\\xa4\\xa4 \\xe0\\xa4\\x95\\xe0\\xa4\\xb0\\xe0\\xa4\\xa8\\xe0\\xa5\\x87 \\xe0\\xa4\\xb5\\xe0\\xa4\\xbe\\xe0\\xa4\\xb2\\xe0\\xa4\\xbe \\xe0\\xa4\\x97\\xe0\\xa5\\x8d\\xe0\\xa4\\xb0\\xe0\\xa5\\x80\\xe0\\xa4\\x9f\\xe0\\xa4\\xbf\\xe0\\xa4\\x82\\xe0\\xa4\\x97 \\xe0\\xa4\\xaa\\xe0\\xa5\\x8d\\xe0\\xa4\\xb0\\xe0\\xa4\\xa6\\xe0\\xa4\\xbe\\xe0\\xa4\\xa8 \\xe0\\xa4\\x95\\xe0\\xa4\\xbf\\xe0\\xa4\\xaf\\xe0\\xa4\\xbe\\xe0\\xa5\\xa4'\n",
      " b'\\xd0\\x9b\\xd0\\xbe\\xd1\\x80\\xd0\\xb4 \\xd0\\x94\\xd0\\xb6\\xd1\\x83\\xd0\\xbb\\xd0\\xb8\\xd0\\xb0\\xd0\\xbd \\xd0\\xa3\\xd1\\x8d\\xd0\\xb9\\xd0\\xb4 \\xd1\\x83\\xd1\\x81\\xd1\\x82\\xd1\\x80\\xd0\\xbe\\xd0\\xb8\\xd0\\xbb \\xd1\\x82\\xd0\\xb5\\xd0\\xbf\\xd0\\xbb\\xd0\\xbe\\xd0\\xb5 \\xd0\\xb8 \\xd0\\xb3\\xd0\\xbe\\xd1\\x81\\xd1\\x82\\xd0\\xb5\\xd0\\xbf\\xd1\\x80\\xd0\\xb8\\xd0\\xb8\\xd0\\xbc\\xd0\\xbd\\xd0\\xbe\\xd0\\xb5 \\xd0\\xbf\\xd1\\x80\\xd0\\xb8\\xd0\\xb2\\xd0\\xb5\\xd1\\x82\\xd1\\x81\\xd1\\x82\\xd0\\xb2\\xd0\\xb8\\xd0\\xb5.'\n",
      " b'Bwana Julian Wade aliwakaribisha kwa mikono miwili.'\n",
      " b'Lord Julian Wade \\xe0\\xb9\\x83\\xe0\\xb8\\xab\\xe0\\xb9\\x89\\xe0\\xb8\\x81\\xe0\\xb8\\xb2\\xe0\\xb8\\xa3\\xe0\\xb8\\x95\\xe0\\xb9\\x89\\xe0\\xb8\\xad\\xe0\\xb8\\x99\\xe0\\xb8\\xa3\\xe0\\xb8\\xb1\\xe0\\xb8\\x9a\\xe0\\xb8\\xad\\xe0\\xb8\\xa2\\xe0\\xb9\\x88\\xe0\\xb8\\xb2\\xe0\\xb8\\x87\\xe0\\xb8\\xad\\xe0\\xb8\\x9a\\xe0\\xb8\\xad\\xe0\\xb8\\xb8\\xe0\\xb9\\x88\\xe0\\xb8\\x99\\xe0\\xb9\\x81\\xe0\\xb8\\xa5\\xe0\\xb8\\xb0\\xe0\\xb8\\xa2\\xe0\\xb8\\xb4\\xe0\\xb8\\x99\\xe0\\xb8\\x94\\xe0\\xb8\\xb5'\n",
      " b'Lord Julian Wade s\\xc4\\xb1cak ve samimi bir selam verdi.'\n",
      " b'\\xd9\\x84\\xd8\\xa7\\xd8\\xb1\\xda\\x88 \\xd8\\xac\\xd9\\x88\\xd9\\x84\\xdb\\x8c\\xd9\\x86 \\xd9\\x88\\xda\\x88 \\xd9\\x86\\xdb\\x92 \\xda\\xaf\\xd8\\xb1\\xd9\\x85 \\xd8\\xa7\\xd9\\x88\\xd8\\xb1 \\xd8\\xae\\xd9\\x88\\xd8\\xb4 \\xd8\\xa2\\xd9\\x85\\xd8\\xaf\\xdb\\x8c\\xd8\\xaf \\xd8\\xb3\\xd9\\x84\\xd8\\xa7\\xd9\\x85\\xd8\\xaa\\xdb\\x8c \\xd9\\x81\\xd8\\xb1\\xd8\\xa7\\xdb\\x81\\xd9\\x85 \\xda\\xa9\\xdb\\x8c.'\n",
      " b'Ch\\xc3\\xbaa Julian Wade \\xc4\\x91\\xc3\\xa3 cung c\\xe1\\xba\\xa5p m\\xe1\\xbb\\x99t l\\xe1\\xbb\\x9di ch\\xc3\\xa0o n\\xe1\\xbb\\x93ng \\xe1\\xba\\xa5m v\\xc3\\xa0 ch\\xc3\\xa0o \\xc4\\x91\\xc3\\xb3n.'\n",
      " b'\\xe6\\x9c\\xb1\\xe5\\x88\\xa9\\xe5\\xae\\x89\\xe9\\x9f\\xa6\\xe5\\xbe\\xb7\\xe5\\x8b\\x8b\\xe7\\x88\\xb5\\xe6\\x8f\\x90\\xe4\\xbe\\x9b\\xe4\\xba\\x86\\xe7\\x83\\xad\\xe7\\x83\\x88\\xe6\\xac\\xa2\\xe8\\xbf\\x8e\\xe7\\x9a\\x84\\xe9\\x97\\xae\\xe5\\x80\\x99\\xe3\\x80\\x82']\n",
      "[b'\\xd9\\x82\\xd8\\xaf\\xd9\\x85 \\xd8\\xa7\\xd9\\x84\\xd9\\x84\\xd9\\x88\\xd8\\xb1\\xd8\\xaf \\xd8\\xac\\xd9\\x88\\xd9\\x84\\xd9\\x8a\\xd8\\xa7\\xd9\\x86 \\xd9\\x88\\xd8\\xa7\\xd8\\xaf \\xd8\\xaa\\xd8\\xad\\xd9\\x8a\\xd8\\xa9 \\xd8\\xaf\\xd8\\xa7\\xd9\\x81\\xd8\\xa6\\xd8\\xa9 \\xd9\\x88\\xd9\\x85\\xd8\\xb1\\xd8\\xad\\xd8\\xa8\\xd8\\xa9.'\n",
      " b'\\xd0\\x9b\\xd0\\xbe\\xd1\\x80\\xd0\\xb4 \\xd0\\x94\\xd0\\xb6\\xd1\\x83\\xd0\\xbb\\xd0\\xb8\\xd1\\x8a\\xd0\\xbd \\xd0\\xa3\\xd0\\xb5\\xd0\\xb9\\xd0\\xb4 \\xd0\\xbf\\xd0\\xbe\\xd0\\xb7\\xd0\\xb4\\xd1\\x80\\xd0\\xb0\\xd0\\xb2\\xd0\\xb8 \\xd1\\x82\\xd0\\xbe\\xd0\\xbf\\xd0\\xbb\\xd0\\xbe \\xd0\\xb8 \\xd0\\xbf\\xd1\\x80\\xd0\\xb8\\xd0\\xb2\\xd0\\xb5\\xd1\\x82\\xd0\\xbb\\xd0\\xb8\\xd0\\xb2\\xd0\\xbe.'\n",
      " b'Lord Julians Begr\\xc3\\xbc\\xc3\\x9fung war warm und einladend.'\n",
      " b'\\xce\\x9f \\xce\\x9b\\xcf\\x8c\\xcf\\x81\\xce\\xb4\\xce\\xbf\\xcf\\x82 Julian Wade \\xce\\xad\\xce\\xb4\\xcf\\x89\\xcf\\x83\\xce\\xb5 \\xce\\xad\\xce\\xbd\\xce\\xb1 \\xce\\xb6\\xce\\xb5\\xcf\\x83\\xcf\\x84\\xcf\\x8c \\xce\\xba\\xce\\xb1\\xce\\xb9 \\xcf\\x86\\xce\\xb9\\xce\\xbb\\xcf\\x8c\\xce\\xbe\\xce\\xb5\\xce\\xbd\\xce\\xbf \\xcf\\x87\\xce\\xb1\\xce\\xb9\\xcf\\x81\\xce\\xb5\\xcf\\x84\\xce\\xb9\\xcf\\x83\\xce\\xbc\\xcf\\x8c.'\n",
      " b'Lord Julian Wade provided a warm and welcoming greeting.'\n",
      " b'Lord Julian Wade brind\\xc3\\xb3 un c\\xc3\\xa1lido y acogedor recibimiento.'\n",
      " b'Lord Julian Wade a offert un accueil chaleureux et convivial.'\n",
      " b'\\xe0\\xa4\\xb2\\xe0\\xa5\\x89\\xe0\\xa4\\xb0\\xe0\\xa5\\x8d\\xe0\\xa4\\xa1 \\xe0\\xa4\\x9c\\xe0\\xa5\\x82\\xe0\\xa4\\xb2\\xe0\\xa4\\xbf\\xe0\\xa4\\xaf\\xe0\\xa4\\xa8 \\xe0\\xa4\\xb5\\xe0\\xa5\\x87\\xe0\\xa4\\xa1 \\xe0\\xa4\\xa8\\xe0\\xa5\\x87 \\xe0\\xa4\\x8f\\xe0\\xa4\\x95 \\xe0\\xa4\\x97\\xe0\\xa4\\xb0\\xe0\\xa5\\x8d\\xe0\\xa4\\xae \\xe0\\xa4\\x94\\xe0\\xa4\\xb0 \\xe0\\xa4\\xb8\\xe0\\xa5\\x8d\\xe0\\xa4\\xb5\\xe0\\xa4\\xbe\\xe0\\xa4\\x97\\xe0\\xa4\\xa4 \\xe0\\xa4\\x95\\xe0\\xa4\\xb0\\xe0\\xa4\\xa8\\xe0\\xa5\\x87 \\xe0\\xa4\\xb5\\xe0\\xa4\\xbe\\xe0\\xa4\\xb2\\xe0\\xa4\\xbe \\xe0\\xa4\\x97\\xe0\\xa5\\x8d\\xe0\\xa4\\xb0\\xe0\\xa5\\x80\\xe0\\xa4\\x9f\\xe0\\xa4\\xbf\\xe0\\xa4\\x82\\xe0\\xa4\\x97 \\xe0\\xa4\\xaa\\xe0\\xa5\\x8d\\xe0\\xa4\\xb0\\xe0\\xa4\\xa6\\xe0\\xa4\\xbe\\xe0\\xa4\\xa8 \\xe0\\xa4\\x95\\xe0\\xa4\\xbf\\xe0\\xa4\\xaf\\xe0\\xa4\\xbe\\xe0\\xa5\\xa4'\n",
      " b'\\xd0\\x9b\\xd0\\xbe\\xd1\\x80\\xd0\\xb4 \\xd0\\x94\\xd0\\xb6\\xd1\\x83\\xd0\\xbb\\xd0\\xb8\\xd0\\xb0\\xd0\\xbd \\xd0\\xa3\\xd1\\x8d\\xd0\\xb9\\xd0\\xb4 \\xd1\\x83\\xd1\\x81\\xd1\\x82\\xd1\\x80\\xd0\\xbe\\xd0\\xb8\\xd0\\xbb \\xd1\\x82\\xd0\\xb5\\xd0\\xbf\\xd0\\xbb\\xd0\\xbe\\xd0\\xb5 \\xd0\\xb8 \\xd0\\xb3\\xd0\\xbe\\xd1\\x81\\xd1\\x82\\xd0\\xb5\\xd0\\xbf\\xd1\\x80\\xd0\\xb8\\xd0\\xb8\\xd0\\xbc\\xd0\\xbd\\xd0\\xbe\\xd0\\xb5 \\xd0\\xbf\\xd1\\x80\\xd0\\xb8\\xd0\\xb2\\xd0\\xb5\\xd1\\x82\\xd1\\x81\\xd1\\x82\\xd0\\xb2\\xd0\\xb8\\xd0\\xb5.'\n",
      " b'Bwana Julian Wade aliwakaribisha kwa mikono miwili.'\n",
      " b'Lord Julian Wade \\xe0\\xb9\\x83\\xe0\\xb8\\xab\\xe0\\xb9\\x89\\xe0\\xb8\\x81\\xe0\\xb8\\xb2\\xe0\\xb8\\xa3\\xe0\\xb8\\x95\\xe0\\xb9\\x89\\xe0\\xb8\\xad\\xe0\\xb8\\x99\\xe0\\xb8\\xa3\\xe0\\xb8\\xb1\\xe0\\xb8\\x9a\\xe0\\xb8\\xad\\xe0\\xb8\\xa2\\xe0\\xb9\\x88\\xe0\\xb8\\xb2\\xe0\\xb8\\x87\\xe0\\xb8\\xad\\xe0\\xb8\\x9a\\xe0\\xb8\\xad\\xe0\\xb8\\xb8\\xe0\\xb9\\x88\\xe0\\xb8\\x99\\xe0\\xb9\\x81\\xe0\\xb8\\xa5\\xe0\\xb8\\xb0\\xe0\\xb8\\xa2\\xe0\\xb8\\xb4\\xe0\\xb8\\x99\\xe0\\xb8\\x94\\xe0\\xb8\\xb5'\n",
      " b'Lord Julian Wade s\\xc4\\xb1cak ve samimi bir selam verdi.'\n",
      " b'\\xd9\\x84\\xd8\\xa7\\xd8\\xb1\\xda\\x88 \\xd8\\xac\\xd9\\x88\\xd9\\x84\\xdb\\x8c\\xd9\\x86 \\xd9\\x88\\xda\\x88 \\xd9\\x86\\xdb\\x92 \\xda\\xaf\\xd8\\xb1\\xd9\\x85 \\xd8\\xa7\\xd9\\x88\\xd8\\xb1 \\xd8\\xae\\xd9\\x88\\xd8\\xb4 \\xd8\\xa2\\xd9\\x85\\xd8\\xaf\\xdb\\x8c\\xd8\\xaf \\xd8\\xb3\\xd9\\x84\\xd8\\xa7\\xd9\\x85\\xd8\\xaa\\xdb\\x8c \\xd9\\x81\\xd8\\xb1\\xd8\\xa7\\xdb\\x81\\xd9\\x85 \\xda\\xa9\\xdb\\x8c.'\n",
      " b'Ch\\xc3\\xbaa Julian Wade \\xc4\\x91\\xc3\\xa3 cung c\\xe1\\xba\\xa5p m\\xe1\\xbb\\x99t l\\xe1\\xbb\\x9di ch\\xc3\\xa0o n\\xe1\\xbb\\x93ng \\xe1\\xba\\xa5m v\\xc3\\xa0 ch\\xc3\\xa0o \\xc4\\x91\\xc3\\xb3n.'\n",
      " b'\\xe6\\x9c\\xb1\\xe5\\x88\\xa9\\xe5\\xae\\x89\\xe9\\x9f\\xa6\\xe5\\xbe\\xb7\\xe5\\x8b\\x8b\\xe7\\x88\\xb5\\xe6\\x8f\\x90\\xe4\\xbe\\x9b\\xe4\\xba\\x86\\xe7\\x83\\xad\\xe7\\x83\\x88\\xe6\\xac\\xa2\\xe8\\xbf\\x8e\\xe7\\x9a\\x84\\xe9\\x97\\xae\\xe5\\x80\\x99\\xe3\\x80\\x82']\n"
     ]
    }
   ],
   "source": [
    "for i in range(2):\n",
    "    iterator = ds['validation'].__iter__()\n",
    "    next_element = iterator.get_next()\n",
    "    pt = next_element['hypothesis']['translation']\n",
    "    print(pt.numpy())"
   ]
  },
  {
   "cell_type": "code",
   "execution_count": 177,
   "metadata": {},
   "outputs": [
    {
     "ename": "AttributeError",
     "evalue": "'dict' object has no attribute 'ds_info'",
     "output_type": "error",
     "traceback": [
      "\u001b[1;31m---------------------------------------------------------------------------\u001b[0m",
      "\u001b[1;31mAttributeError\u001b[0m                            Traceback (most recent call last)",
      "\u001b[1;32m<ipython-input-177-234400e3d598>\u001b[0m in \u001b[0;36m<module>\u001b[1;34m\u001b[0m\n\u001b[1;32m----> 1\u001b[1;33m \u001b[0mds\u001b[0m\u001b[1;33m.\u001b[0m\u001b[0mds_info\u001b[0m\u001b[1;33m\u001b[0m\u001b[1;33m\u001b[0m\u001b[0m\n\u001b[0m",
      "\u001b[1;31mAttributeError\u001b[0m: 'dict' object has no attribute 'ds_info'"
     ]
    }
   ],
   "source": [
    "ds.ds_info"
   ]
  },
  {
   "cell_type": "code",
   "execution_count": null,
   "metadata": {},
   "outputs": [],
   "source": []
  },
  {
   "cell_type": "code",
   "execution_count": null,
   "metadata": {},
   "outputs": [],
   "source": []
  },
  {
   "cell_type": "code",
   "execution_count": null,
   "metadata": {},
   "outputs": [],
   "source": []
  },
  {
   "cell_type": "code",
   "execution_count": null,
   "metadata": {},
   "outputs": [],
   "source": []
  },
  {
   "cell_type": "code",
   "execution_count": null,
   "metadata": {},
   "outputs": [],
   "source": []
  },
  {
   "cell_type": "code",
   "execution_count": null,
   "metadata": {},
   "outputs": [],
   "source": []
  },
  {
   "cell_type": "code",
   "execution_count": null,
   "metadata": {},
   "outputs": [],
   "source": []
  }
 ],
 "metadata": {
  "kernelspec": {
   "display_name": "Python 3",
   "language": "python",
   "name": "python3"
  },
  "language_info": {
   "codemirror_mode": {
    "name": "ipython",
    "version": 3
   },
   "file_extension": ".py",
   "mimetype": "text/x-python",
   "name": "python",
   "nbconvert_exporter": "python",
   "pygments_lexer": "ipython3",
   "version": "3.9.0"
  }
 },
 "nbformat": 4,
 "nbformat_minor": 4
}
